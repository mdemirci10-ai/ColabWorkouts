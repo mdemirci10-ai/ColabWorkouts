{
  "cells": [
    {
      "cell_type": "markdown",
      "metadata": {
        "id": "view-in-github",
        "colab_type": "text"
      },
      "source": [
        "<a href=\"https://colab.research.google.com/github/mdemirci10/ColabWorkouts/blob/main/Module_Tokenizer.ipynb\" target=\"_parent\"><img src=\"https://colab.research.google.com/assets/colab-badge.svg\" alt=\"Open In Colab\"/></a>"
      ]
    },
    {
      "cell_type": "code",
      "source": [
        "%pip install sentencepiece -qU"
      ],
      "metadata": {
        "id": "qfP39BJf8IkO",
        "colab": {
          "base_uri": "https://localhost:8080/"
        },
        "outputId": "c8f92d70-e7eb-4ec8-89ce-2c91f14e9974"
      },
      "execution_count": null,
      "outputs": [
        {
          "output_type": "stream",
          "name": "stdout",
          "text": [
            "\u001b[2K   \u001b[90m━━━━━━━━━━━━━━━━━━━━━━━━━━━━━━━━━━━━━━━━\u001b[0m \u001b[32m1.4/1.4 MB\u001b[0m \u001b[31m4.4 MB/s\u001b[0m eta \u001b[36m0:00:00\u001b[0m\n",
            "\u001b[?25h"
          ]
        }
      ]
    },
    {
      "cell_type": "code",
      "source": [
        "text1 = \"ai stands for artificial intelligence\""
      ],
      "metadata": {
        "id": "M_xCQoeDBuu2"
      },
      "execution_count": 10,
      "outputs": []
    },
    {
      "cell_type": "code",
      "source": [
        "import sentencepiece as spm\n",
        "\n",
        "spm.SentencePieceTrainer.Train(\n",
        "    input=\"text.txt\",\n",
        "    model_prefix=\"spm_tokenizer\",\n",
        "    vocab_size=64,\n",
        "    model_type=\"bpe\",\n",
        ")"
      ],
      "metadata": {
        "id": "HP8mPnPn_PvW"
      },
      "execution_count": null,
      "outputs": []
    },
    {
      "cell_type": "code",
      "source": [
        "spm_tokenizer = spm.SentencePieceProcessor(model_file=\"spm_tokenizer.model\")\n",
        "\n",
        "spm_ids = spm_tokenizer.Encode(text1)\n",
        "spm_tokens = spm_tokenizer.Encode(text1, out_type=str)\n",
        "spm_ids, spm_tokens"
      ],
      "metadata": {
        "colab": {
          "base_uri": "https://localhost:8080/"
        },
        "id": "T2nhklN8BK4_",
        "outputId": "075b48b3-d240-49bd-dd90-9437f7a034c5"
      },
      "execution_count": null,
      "outputs": [
        {
          "output_type": "execute_result",
          "data": {
            "text/plain": [
              "([5,\n",
              "  33,\n",
              "  23,\n",
              "  31,\n",
              "  28,\n",
              "  10,\n",
              "  36,\n",
              "  14,\n",
              "  13,\n",
              "  5,\n",
              "  32,\n",
              "  31,\n",
              "  33,\n",
              "  39,\n",
              "  33,\n",
              "  38,\n",
              "  33,\n",
              "  28,\n",
              "  34,\n",
              "  26,\n",
              "  7,\n",
              "  31,\n",
              "  21,\n",
              "  34,\n",
              "  33,\n",
              "  40,\n",
              "  16,\n",
              "  24],\n",
              " ['▁a',\n",
              "  'i',\n",
              "  '▁s',\n",
              "  't',\n",
              "  'a',\n",
              "  'nd',\n",
              "  's',\n",
              "  '▁f',\n",
              "  'or',\n",
              "  '▁a',\n",
              "  'r',\n",
              "  't',\n",
              "  'i',\n",
              "  'f',\n",
              "  'i',\n",
              "  'c',\n",
              "  'i',\n",
              "  'a',\n",
              "  'l',\n",
              "  '▁',\n",
              "  'in',\n",
              "  't',\n",
              "  'el',\n",
              "  'l',\n",
              "  'i',\n",
              "  'g',\n",
              "  'en',\n",
              "  'ce'])"
            ]
          },
          "metadata": {},
          "execution_count": 5
        }
      ]
    },
    {
      "cell_type": "code",
      "source": [
        "%pip install tokenizers -qU"
      ],
      "metadata": {
        "id": "XR95B4JtDGMH"
      },
      "execution_count": 1,
      "outputs": []
    },
    {
      "cell_type": "code",
      "source": [
        "from tokenizers import Tokenizer\n",
        "from tokenizers.models import BPE\n",
        "from tokenizers.trainers import BpeTrainer\n",
        "from tokenizers.pre_tokenizers import Whitespace"
      ],
      "metadata": {
        "id": "oTFLFmv5DodO"
      },
      "execution_count": 2,
      "outputs": []
    },
    {
      "cell_type": "code",
      "source": [
        "hf_tokenizer = Tokenizer(BPE())"
      ],
      "metadata": {
        "id": "Q0K8N2vvWO5P"
      },
      "execution_count": 3,
      "outputs": []
    },
    {
      "cell_type": "code",
      "source": [
        "hf_tokenizer.pre_tokenizer = Whitespace()"
      ],
      "metadata": {
        "id": "6D8qpsuxXFNf"
      },
      "execution_count": 5,
      "outputs": []
    },
    {
      "cell_type": "code",
      "source": [
        "trainer = BpeTrainer(vocab_size=64, special_tokens=[\"<unk>\"])\n",
        "\n",
        "hf_tokenizer.train([\"text.txt\"], trainer)"
      ],
      "metadata": {
        "id": "GTpypzCBXLCW"
      },
      "execution_count": 8,
      "outputs": []
    },
    {
      "cell_type": "code",
      "source": [
        "hf_tokenizer.get_vocab_size(), hf_tokenizer.encode(text1).ids"
      ],
      "metadata": {
        "colab": {
          "base_uri": "https://localhost:8080/"
        },
        "id": "ZF41qbvtXp54",
        "outputId": "67c8ba13-2c93-4693-cd56-a7169e1443d2"
      },
      "execution_count": 12,
      "outputs": [
        {
          "output_type": "execute_result",
          "data": {
            "text/plain": [
              "(64,\n",
              " [12,\n",
              "  20,\n",
              "  30,\n",
              "  31,\n",
              "  48,\n",
              "  30,\n",
              "  17,\n",
              "  47,\n",
              "  57,\n",
              "  31,\n",
              "  20,\n",
              "  63,\n",
              "  14,\n",
              "  20,\n",
              "  53,\n",
              "  42,\n",
              "  31,\n",
              "  50,\n",
              "  23,\n",
              "  20,\n",
              "  18,\n",
              "  46,\n",
              "  59])"
            ]
          },
          "metadata": {},
          "execution_count": 12
        }
      ]
    },
    {
      "cell_type": "code",
      "source": [
        "hf_tokenizer.save(\"hf_tokenizer.json\")"
      ],
      "metadata": {
        "id": "NVsOcE8vYzER"
      },
      "execution_count": 13,
      "outputs": []
    },
    {
      "cell_type": "code",
      "source": [
        "from transformers import PreTrainedTokenizerFast\n",
        "\n",
        "fast_tokenizer = PreTrainedTokenizerFast(tokenizer_file=\"hf_tokenizer.json\")\n",
        "\n",
        "fast_tokenizer.encode(text1)"
      ],
      "metadata": {
        "id": "loUuiz_mY5h-",
        "outputId": "02fcaf6b-73c7-42a1-a66e-5fc73336f466",
        "colab": {
          "base_uri": "https://localhost:8080/"
        }
      },
      "execution_count": 14,
      "outputs": [
        {
          "output_type": "execute_result",
          "data": {
            "text/plain": [
              "[12,\n",
              " 20,\n",
              " 30,\n",
              " 31,\n",
              " 48,\n",
              " 30,\n",
              " 17,\n",
              " 47,\n",
              " 57,\n",
              " 31,\n",
              " 20,\n",
              " 63,\n",
              " 14,\n",
              " 20,\n",
              " 53,\n",
              " 42,\n",
              " 31,\n",
              " 50,\n",
              " 23,\n",
              " 20,\n",
              " 18,\n",
              " 46,\n",
              " 59]"
            ]
          },
          "metadata": {},
          "execution_count": 14
        }
      ]
    },
    {
      "cell_type": "code",
      "source": [
        "# cli login to huggingface from terminal\n",
        "\n",
        "# huggingface-cli login"
      ],
      "metadata": {
        "id": "p9wpXB7LXzZu"
      },
      "execution_count": null,
      "outputs": []
    },
    {
      "cell_type": "code",
      "source": [],
      "metadata": {
        "id": "oaGYIZhzce6P"
      },
      "execution_count": null,
      "outputs": []
    }
  ],
  "metadata": {
    "colab": {
      "name": "Colab'e hoş geldiniz.",
      "provenance": [],
      "include_colab_link": true
    },
    "kernelspec": {
      "display_name": "Python 3",
      "name": "python3"
    }
  },
  "nbformat": 4,
  "nbformat_minor": 0
}