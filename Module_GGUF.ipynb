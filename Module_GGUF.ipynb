{
  "nbformat": 4,
  "nbformat_minor": 0,
  "metadata": {
    "colab": {
      "provenance": [],
      "authorship_tag": "ABX9TyNqjioYpb2cKoiauyNwzA+a",
      "include_colab_link": true
    },
    "kernelspec": {
      "name": "python3",
      "display_name": "Python 3"
    },
    "language_info": {
      "name": "python"
    }
  },
  "cells": [
    {
      "cell_type": "markdown",
      "metadata": {
        "id": "view-in-github",
        "colab_type": "text"
      },
      "source": [
        "<a href=\"https://colab.research.google.com/github/mdemirci10/ColabWorkouts/blob/main/Module_GGUF.ipynb\" target=\"_parent\"><img src=\"https://colab.research.google.com/assets/colab-badge.svg\" alt=\"Open In Colab\"/></a>"
      ]
    },
    {
      "cell_type": "code",
      "execution_count": null,
      "metadata": {
        "id": "ZJSlXg5fVTME"
      },
      "outputs": [],
      "source": [
        "!apt-get -q install git-lfs\n",
        "!git lfs install"
      ]
    },
    {
      "cell_type": "code",
      "source": [
        "# Clone llama.cpp\n",
        "!git clone https://github.com/ggerganov/llama.cpp\n",
        "%cd llama.cpp"
      ],
      "metadata": {
        "id": "aMwGJgBSVY0S"
      },
      "execution_count": null,
      "outputs": []
    },
    {
      "cell_type": "code",
      "source": [
        "!pip install huggingface_hub\n",
        "from huggingface_hub import snapshot_download\n",
        "\n",
        "# Download HF model\n",
        "model_path = snapshot_download(repo_id=\"mdemirci10/gpt-oss-finetuned\")"
      ],
      "metadata": {
        "id": "f_nuyBE7VbaR"
      },
      "execution_count": null,
      "outputs": []
    },
    {
      "cell_type": "markdown",
      "source": [
        "convert-hf-to-gguf.py from llama.cpp works for most LLaMA-based and compatible models."
      ],
      "metadata": {
        "id": "K7WYvD20V5lC"
      }
    },
    {
      "cell_type": "code",
      "source": [
        "!python convert-hf-to-gguf.py \\\n",
        "    --model \"$model_path\" \\\n",
        "    --outfile \"model-fp16.gguf\" \\\n",
        "    --outtype f16"
      ],
      "metadata": {
        "id": "1r68Gz2GVjCK"
      },
      "execution_count": null,
      "outputs": []
    },
    {
      "cell_type": "markdown",
      "source": [
        "--outtype f16 → Float16 (full precision).\n",
        "\n",
        "You can use f32 for 32-bit or skip for default."
      ],
      "metadata": {
        "id": "pbqUUen3WA0i"
      }
    },
    {
      "cell_type": "code",
      "source": [
        "!./quantize model-fp16.gguf model- q4_K_M.gguf q4_K_M"
      ],
      "metadata": {
        "id": "kTRyTxgoVnS6"
      },
      "execution_count": null,
      "outputs": []
    },
    {
      "cell_type": "markdown",
      "source": [
        "Common quantization types: q4_0, q4_K_M, q5_0, q8_0."
      ],
      "metadata": {
        "id": "nLyBQrcXVwRC"
      }
    },
    {
      "cell_type": "code",
      "source": [
        "# from google.colab import files\n",
        "# files.download(\"model-q4_0.gguf\")"
      ],
      "metadata": {
        "id": "E3w_5DItWUca"
      },
      "execution_count": null,
      "outputs": []
    }
  ]
}